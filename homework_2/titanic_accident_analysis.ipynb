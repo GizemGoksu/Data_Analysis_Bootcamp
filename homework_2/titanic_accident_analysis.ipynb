{
 "cells": [
  {
   "cell_type": "markdown",
   "id": "0b89d116-def0-4f48-a9c9-f769e7f10518",
   "metadata": {},
   "source": [
    "# Titanic Accident Passenger Analysis"
   ]
  },
  {
   "cell_type": "markdown",
   "id": "2e60f039-9270-44a5-91a3-0fef67da8238",
   "metadata": {},
   "source": [
    "## Name Surname: Gizem Göksu"
   ]
  },
  {
   "cell_type": "markdown",
   "id": "4cfb8bdb-0f4e-4bc0-89cb-b8fce3c3cdfc",
   "metadata": {},
   "source": [
    "## Department: Istanbul Technical University Mathematical Engineering"
   ]
  },
  {
   "cell_type": "code",
   "execution_count": 153,
   "id": "4d35ec97-57fe-4a06-a63f-9f6988586d86",
   "metadata": {},
   "outputs": [],
   "source": [
    "import numpy as np\n",
    "import pandas as pd"
   ]
  },
  {
   "cell_type": "code",
   "execution_count": 155,
   "id": "61371938-ea5f-4968-aaaa-7ac82dd34f08",
   "metadata": {},
   "outputs": [
    {
     "data": {
      "text/html": [
       "<div>\n",
       "<style scoped>\n",
       "    .dataframe tbody tr th:only-of-type {\n",
       "        vertical-align: middle;\n",
       "    }\n",
       "\n",
       "    .dataframe tbody tr th {\n",
       "        vertical-align: top;\n",
       "    }\n",
       "\n",
       "    .dataframe thead th {\n",
       "        text-align: right;\n",
       "    }\n",
       "</style>\n",
       "<table border=\"1\" class=\"dataframe\">\n",
       "  <thead>\n",
       "    <tr style=\"text-align: right;\">\n",
       "      <th></th>\n",
       "      <th>PassengerId</th>\n",
       "      <th>Survived</th>\n",
       "      <th>Pclass</th>\n",
       "      <th>Name</th>\n",
       "      <th>Sex</th>\n",
       "      <th>Age</th>\n",
       "      <th>SibSp</th>\n",
       "      <th>Parch</th>\n",
       "      <th>Ticket</th>\n",
       "      <th>Fare</th>\n",
       "      <th>Cabin</th>\n",
       "      <th>Embarked</th>\n",
       "    </tr>\n",
       "  </thead>\n",
       "  <tbody>\n",
       "    <tr>\n",
       "      <th>0</th>\n",
       "      <td>1</td>\n",
       "      <td>0</td>\n",
       "      <td>3</td>\n",
       "      <td>Braund, Mr. Owen Harris</td>\n",
       "      <td>male</td>\n",
       "      <td>22.0</td>\n",
       "      <td>1</td>\n",
       "      <td>0</td>\n",
       "      <td>A/5 21171</td>\n",
       "      <td>7.2500</td>\n",
       "      <td>NaN</td>\n",
       "      <td>S</td>\n",
       "    </tr>\n",
       "    <tr>\n",
       "      <th>1</th>\n",
       "      <td>2</td>\n",
       "      <td>1</td>\n",
       "      <td>1</td>\n",
       "      <td>Cumings, Mrs. John Bradley (Florence Briggs Th...</td>\n",
       "      <td>female</td>\n",
       "      <td>38.0</td>\n",
       "      <td>1</td>\n",
       "      <td>0</td>\n",
       "      <td>PC 17599</td>\n",
       "      <td>71.2833</td>\n",
       "      <td>C85</td>\n",
       "      <td>C</td>\n",
       "    </tr>\n",
       "    <tr>\n",
       "      <th>2</th>\n",
       "      <td>3</td>\n",
       "      <td>1</td>\n",
       "      <td>3</td>\n",
       "      <td>Heikkinen, Miss. Laina</td>\n",
       "      <td>female</td>\n",
       "      <td>26.0</td>\n",
       "      <td>0</td>\n",
       "      <td>0</td>\n",
       "      <td>STON/O2. 3101282</td>\n",
       "      <td>7.9250</td>\n",
       "      <td>NaN</td>\n",
       "      <td>S</td>\n",
       "    </tr>\n",
       "    <tr>\n",
       "      <th>3</th>\n",
       "      <td>4</td>\n",
       "      <td>1</td>\n",
       "      <td>1</td>\n",
       "      <td>Futrelle, Mrs. Jacques Heath (Lily May Peel)</td>\n",
       "      <td>female</td>\n",
       "      <td>35.0</td>\n",
       "      <td>1</td>\n",
       "      <td>0</td>\n",
       "      <td>113803</td>\n",
       "      <td>53.1000</td>\n",
       "      <td>C123</td>\n",
       "      <td>S</td>\n",
       "    </tr>\n",
       "    <tr>\n",
       "      <th>4</th>\n",
       "      <td>5</td>\n",
       "      <td>0</td>\n",
       "      <td>3</td>\n",
       "      <td>Allen, Mr. William Henry</td>\n",
       "      <td>male</td>\n",
       "      <td>35.0</td>\n",
       "      <td>0</td>\n",
       "      <td>0</td>\n",
       "      <td>373450</td>\n",
       "      <td>8.0500</td>\n",
       "      <td>NaN</td>\n",
       "      <td>S</td>\n",
       "    </tr>\n",
       "  </tbody>\n",
       "</table>\n",
       "</div>"
      ],
      "text/plain": [
       "   PassengerId  Survived  Pclass  \\\n",
       "0            1         0       3   \n",
       "1            2         1       1   \n",
       "2            3         1       3   \n",
       "3            4         1       1   \n",
       "4            5         0       3   \n",
       "\n",
       "                                                Name     Sex   Age  SibSp  \\\n",
       "0                            Braund, Mr. Owen Harris    male  22.0      1   \n",
       "1  Cumings, Mrs. John Bradley (Florence Briggs Th...  female  38.0      1   \n",
       "2                             Heikkinen, Miss. Laina  female  26.0      0   \n",
       "3       Futrelle, Mrs. Jacques Heath (Lily May Peel)  female  35.0      1   \n",
       "4                           Allen, Mr. William Henry    male  35.0      0   \n",
       "\n",
       "   Parch            Ticket     Fare Cabin Embarked  \n",
       "0      0         A/5 21171   7.2500   NaN        S  \n",
       "1      0          PC 17599  71.2833   C85        C  \n",
       "2      0  STON/O2. 3101282   7.9250   NaN        S  \n",
       "3      0            113803  53.1000  C123        S  \n",
       "4      0            373450   8.0500   NaN        S  "
      ]
     },
     "execution_count": 155,
     "metadata": {},
     "output_type": "execute_result"
    }
   ],
   "source": [
    "df = pd.read_csv(\"Titanic_dataset.csv\")\n",
    "df.head()"
   ]
  },
  {
   "cell_type": "code",
   "execution_count": 157,
   "id": "4d57eb11-65ba-46c4-87ba-22c153409915",
   "metadata": {},
   "outputs": [
    {
     "data": {
      "text/plain": [
       "(891, 12)"
      ]
     },
     "execution_count": 157,
     "metadata": {},
     "output_type": "execute_result"
    }
   ],
   "source": [
    "df.shape"
   ]
  },
  {
   "cell_type": "code",
   "execution_count": 159,
   "id": "1520301a-3392-4276-a3ad-63db3c3534e5",
   "metadata": {},
   "outputs": [
    {
     "name": "stdout",
     "output_type": "stream",
     "text": [
      "<class 'pandas.core.frame.DataFrame'>\n",
      "RangeIndex: 891 entries, 0 to 890\n",
      "Data columns (total 12 columns):\n",
      " #   Column       Non-Null Count  Dtype  \n",
      "---  ------       --------------  -----  \n",
      " 0   PassengerId  891 non-null    int64  \n",
      " 1   Survived     891 non-null    int64  \n",
      " 2   Pclass       891 non-null    int64  \n",
      " 3   Name         891 non-null    object \n",
      " 4   Sex          891 non-null    object \n",
      " 5   Age          714 non-null    float64\n",
      " 6   SibSp        891 non-null    int64  \n",
      " 7   Parch        891 non-null    int64  \n",
      " 8   Ticket       891 non-null    object \n",
      " 9   Fare         891 non-null    float64\n",
      " 10  Cabin        204 non-null    object \n",
      " 11  Embarked     889 non-null    object \n",
      "dtypes: float64(2), int64(5), object(5)\n",
      "memory usage: 83.7+ KB\n"
     ]
    }
   ],
   "source": [
    "df.info()"
   ]
  },
  {
   "cell_type": "code",
   "execution_count": 161,
   "id": "4ee5f7b5-52d8-475e-bb7d-d2df0015d1b5",
   "metadata": {},
   "outputs": [
    {
     "data": {
      "text/html": [
       "<div>\n",
       "<style scoped>\n",
       "    .dataframe tbody tr th:only-of-type {\n",
       "        vertical-align: middle;\n",
       "    }\n",
       "\n",
       "    .dataframe tbody tr th {\n",
       "        vertical-align: top;\n",
       "    }\n",
       "\n",
       "    .dataframe thead th {\n",
       "        text-align: right;\n",
       "    }\n",
       "</style>\n",
       "<table border=\"1\" class=\"dataframe\">\n",
       "  <thead>\n",
       "    <tr style=\"text-align: right;\">\n",
       "      <th></th>\n",
       "      <th>PassengerId</th>\n",
       "      <th>Survived</th>\n",
       "      <th>Pclass</th>\n",
       "      <th>Age</th>\n",
       "      <th>SibSp</th>\n",
       "      <th>Parch</th>\n",
       "      <th>Fare</th>\n",
       "    </tr>\n",
       "  </thead>\n",
       "  <tbody>\n",
       "    <tr>\n",
       "      <th>count</th>\n",
       "      <td>891.000000</td>\n",
       "      <td>891.000000</td>\n",
       "      <td>891.000000</td>\n",
       "      <td>714.000000</td>\n",
       "      <td>891.000000</td>\n",
       "      <td>891.000000</td>\n",
       "      <td>891.000000</td>\n",
       "    </tr>\n",
       "    <tr>\n",
       "      <th>mean</th>\n",
       "      <td>446.000000</td>\n",
       "      <td>0.383838</td>\n",
       "      <td>2.308642</td>\n",
       "      <td>29.699118</td>\n",
       "      <td>0.523008</td>\n",
       "      <td>0.381594</td>\n",
       "      <td>32.204208</td>\n",
       "    </tr>\n",
       "    <tr>\n",
       "      <th>std</th>\n",
       "      <td>257.353842</td>\n",
       "      <td>0.486592</td>\n",
       "      <td>0.836071</td>\n",
       "      <td>14.526497</td>\n",
       "      <td>1.102743</td>\n",
       "      <td>0.806057</td>\n",
       "      <td>49.693429</td>\n",
       "    </tr>\n",
       "    <tr>\n",
       "      <th>min</th>\n",
       "      <td>1.000000</td>\n",
       "      <td>0.000000</td>\n",
       "      <td>1.000000</td>\n",
       "      <td>0.420000</td>\n",
       "      <td>0.000000</td>\n",
       "      <td>0.000000</td>\n",
       "      <td>0.000000</td>\n",
       "    </tr>\n",
       "    <tr>\n",
       "      <th>25%</th>\n",
       "      <td>223.500000</td>\n",
       "      <td>0.000000</td>\n",
       "      <td>2.000000</td>\n",
       "      <td>20.125000</td>\n",
       "      <td>0.000000</td>\n",
       "      <td>0.000000</td>\n",
       "      <td>7.910400</td>\n",
       "    </tr>\n",
       "    <tr>\n",
       "      <th>50%</th>\n",
       "      <td>446.000000</td>\n",
       "      <td>0.000000</td>\n",
       "      <td>3.000000</td>\n",
       "      <td>28.000000</td>\n",
       "      <td>0.000000</td>\n",
       "      <td>0.000000</td>\n",
       "      <td>14.454200</td>\n",
       "    </tr>\n",
       "    <tr>\n",
       "      <th>75%</th>\n",
       "      <td>668.500000</td>\n",
       "      <td>1.000000</td>\n",
       "      <td>3.000000</td>\n",
       "      <td>38.000000</td>\n",
       "      <td>1.000000</td>\n",
       "      <td>0.000000</td>\n",
       "      <td>31.000000</td>\n",
       "    </tr>\n",
       "    <tr>\n",
       "      <th>max</th>\n",
       "      <td>891.000000</td>\n",
       "      <td>1.000000</td>\n",
       "      <td>3.000000</td>\n",
       "      <td>80.000000</td>\n",
       "      <td>8.000000</td>\n",
       "      <td>6.000000</td>\n",
       "      <td>512.329200</td>\n",
       "    </tr>\n",
       "  </tbody>\n",
       "</table>\n",
       "</div>"
      ],
      "text/plain": [
       "       PassengerId    Survived      Pclass         Age       SibSp  \\\n",
       "count   891.000000  891.000000  891.000000  714.000000  891.000000   \n",
       "mean    446.000000    0.383838    2.308642   29.699118    0.523008   \n",
       "std     257.353842    0.486592    0.836071   14.526497    1.102743   \n",
       "min       1.000000    0.000000    1.000000    0.420000    0.000000   \n",
       "25%     223.500000    0.000000    2.000000   20.125000    0.000000   \n",
       "50%     446.000000    0.000000    3.000000   28.000000    0.000000   \n",
       "75%     668.500000    1.000000    3.000000   38.000000    1.000000   \n",
       "max     891.000000    1.000000    3.000000   80.000000    8.000000   \n",
       "\n",
       "            Parch        Fare  \n",
       "count  891.000000  891.000000  \n",
       "mean     0.381594   32.204208  \n",
       "std      0.806057   49.693429  \n",
       "min      0.000000    0.000000  \n",
       "25%      0.000000    7.910400  \n",
       "50%      0.000000   14.454200  \n",
       "75%      0.000000   31.000000  \n",
       "max      6.000000  512.329200  "
      ]
     },
     "execution_count": 161,
     "metadata": {},
     "output_type": "execute_result"
    }
   ],
   "source": [
    "df.describe()"
   ]
  },
  {
   "cell_type": "markdown",
   "id": "11ea8c1e-fbad-4089-b569-4f4136adf21d",
   "metadata": {},
   "source": [
    "- Functions and data frames that will be used in forward analysis."
   ]
  },
  {
   "cell_type": "code",
   "execution_count": 164,
   "id": "fd07f674-bbc9-4a5b-93c1-8041541b9c47",
   "metadata": {},
   "outputs": [],
   "source": [
    "def filter_df(df, **kwargs):\n",
    "    for col, val in kwargs.items():\n",
    "        df = df[df[col] == val]\n",
    "    return df"
   ]
  },
  {
   "cell_type": "code",
   "execution_count": 166,
   "id": "e218cbb4-e097-4962-9762-56b4cf671e3a",
   "metadata": {},
   "outputs": [],
   "source": [
    "not_survived = filter_df(df, Survived=0)\n",
    "survived = filter_df(df, Survived=1)\n",
    "\n",
    "w_not_survived = filter_df(not_survived, Sex=\"female\") # women that died in the accident\n",
    "m_not_survived = filter_df(not_survived, Sex=\"male\") # men that died in the accident"
   ]
  },
  {
   "cell_type": "markdown",
   "id": "869f2123-5205-4b38-8f70-adb4a5e1cc64",
   "metadata": {},
   "source": [
    "1) Mean of age of people who died in the accident:"
   ]
  },
  {
   "cell_type": "code",
   "execution_count": 169,
   "id": "6b151529-152c-4e61-ae63-b3d27a6721a8",
   "metadata": {},
   "outputs": [
    {
     "data": {
      "text/plain": [
       "30.62617924528302"
      ]
     },
     "execution_count": 169,
     "metadata": {},
     "output_type": "execute_result"
    }
   ],
   "source": [
    "not_survived[\"Age\"].mean()"
   ]
  },
  {
   "cell_type": "markdown",
   "id": "5896f14a-79ee-4eed-a1bc-8948f0401ff5",
   "metadata": {},
   "source": [
    "2. Mean and median of fare of people who died in the accident:"
   ]
  },
  {
   "cell_type": "code",
   "execution_count": 172,
   "id": "74e76175-cc9b-4e0d-ab03-d59095917193",
   "metadata": {},
   "outputs": [],
   "source": [
    "def calculate_fare_statistic(df):\n",
    "    mean = df[\"Fare\"].mean()\n",
    "    median = df[\"Fare\"].median()\n",
    "    print(\"Fare mean:\",mean)\n",
    "    print(\"Fare median:\",median)\n",
    "    return [mean,median]"
   ]
  },
  {
   "cell_type": "code",
   "execution_count": 174,
   "id": "7180d5f8-f79c-4d24-8705-5fc215bb7fe9",
   "metadata": {},
   "outputs": [
    {
     "name": "stdout",
     "output_type": "stream",
     "text": [
      "For people that died in the accident:\n",
      "Fare mean: 22.117886885245902\n",
      "Fare median: 10.5\n"
     ]
    },
    {
     "data": {
      "text/plain": [
       "[22.117886885245902, 10.5]"
      ]
     },
     "execution_count": 174,
     "metadata": {},
     "output_type": "execute_result"
    }
   ],
   "source": [
    "print(\"For people that died in the accident:\")\n",
    "calculate_fare_statistic(not_survived)"
   ]
  },
  {
   "cell_type": "markdown",
   "id": "6c29b09d-0d8d-4c2e-bba6-d655bff680aa",
   "metadata": {},
   "source": [
    "3. Mean age of men who died in the accident:"
   ]
  },
  {
   "cell_type": "code",
   "execution_count": 177,
   "id": "cbbd6d5c-bb56-4fa5-82bb-a217c4949a40",
   "metadata": {},
   "outputs": [
    {
     "data": {
      "text/plain": [
       "31.618055555555557"
      ]
     },
     "execution_count": 177,
     "metadata": {},
     "output_type": "execute_result"
    }
   ],
   "source": [
    "m_not_survived[\"Age\"].mean()"
   ]
  },
  {
   "cell_type": "markdown",
   "id": "206a1e50-ad47-4f44-9d2e-9378ed347713",
   "metadata": {},
   "source": [
    "4. Mean age of women who died in the accident:"
   ]
  },
  {
   "cell_type": "code",
   "execution_count": 180,
   "id": "966504b6-009e-4a90-b8cc-d4f018386393",
   "metadata": {},
   "outputs": [
    {
     "data": {
      "text/plain": [
       "25.046875"
      ]
     },
     "execution_count": 180,
     "metadata": {},
     "output_type": "execute_result"
    }
   ],
   "source": [
    "w_not_survived[\"Age\"].mean()"
   ]
  },
  {
   "cell_type": "markdown",
   "id": "6a78ee2f-38bc-49d1-8740-4ec6e730fac1",
   "metadata": {},
   "source": [
    "5. Mean age of people who survived from the accident:"
   ]
  },
  {
   "cell_type": "code",
   "execution_count": 183,
   "id": "fb19edbf-ed89-47d9-a1f7-6e9c12cc2302",
   "metadata": {},
   "outputs": [
    {
     "data": {
      "text/plain": [
       "28.343689655172415"
      ]
     },
     "execution_count": 183,
     "metadata": {},
     "output_type": "execute_result"
    }
   ],
   "source": [
    "survived[\"Age\"].mean()"
   ]
  },
  {
   "cell_type": "markdown",
   "id": "9c206ea3-79d1-4eeb-a21c-fc100ecc4def",
   "metadata": {},
   "source": [
    "6. Mean and median of fare of people who survived from the accident:"
   ]
  },
  {
   "cell_type": "code",
   "execution_count": 186,
   "id": "a534c02c-d98a-41a3-a858-b7d1ae8d8005",
   "metadata": {},
   "outputs": [
    {
     "name": "stdout",
     "output_type": "stream",
     "text": [
      "For ones that survived from the accident\n",
      "Fare mean: 48.39540760233918\n",
      "Fare median: 26.0\n"
     ]
    },
    {
     "data": {
      "text/plain": [
       "[48.39540760233918, 26.0]"
      ]
     },
     "execution_count": 186,
     "metadata": {},
     "output_type": "execute_result"
    }
   ],
   "source": [
    "print(\"For ones that survived from the accident\")\n",
    "calculate_fare_statistic(survived)"
   ]
  },
  {
   "cell_type": "markdown",
   "id": "40d8e5ca-d4df-421d-94fe-784f4f16a65b",
   "metadata": {},
   "source": [
    "7. Number of the people that survived:"
   ]
  },
  {
   "cell_type": "code",
   "execution_count": 189,
   "id": "d90b41d7-4965-41f7-9413-839e30394586",
   "metadata": {},
   "outputs": [
    {
     "data": {
      "text/plain": [
       "342"
      ]
     },
     "execution_count": 189,
     "metadata": {},
     "output_type": "execute_result"
    }
   ],
   "source": [
    "survived.shape[0]"
   ]
  },
  {
   "cell_type": "markdown",
   "id": "5ad80f5c-25f4-4a26-8afc-8595f0ca3338",
   "metadata": {},
   "source": [
    "8. Median of fare of people that are younger than 10:"
   ]
  },
  {
   "cell_type": "code",
   "execution_count": 192,
   "id": "eb66fa40-623a-4d83-9c1d-979f3ac5dde6",
   "metadata": {},
   "outputs": [
    {
     "data": {
      "text/plain": [
       "27.0"
      ]
     },
     "execution_count": 192,
     "metadata": {},
     "output_type": "execute_result"
    }
   ],
   "source": [
    "df[df[\"Age\"]<10][\"Fare\"].median()"
   ]
  },
  {
   "cell_type": "markdown",
   "id": "e4d7642e-7372-4619-9be4-f8803f34ce4c",
   "metadata": {},
   "source": [
    "9. Pclass comparison on median and median of fare:"
   ]
  },
  {
   "cell_type": "code",
   "execution_count": 195,
   "id": "95045ffb-936a-4299-b80f-7c3bc8a341b2",
   "metadata": {},
   "outputs": [
    {
     "data": {
      "text/html": [
       "<div>\n",
       "<style scoped>\n",
       "    .dataframe tbody tr th:only-of-type {\n",
       "        vertical-align: middle;\n",
       "    }\n",
       "\n",
       "    .dataframe tbody tr th {\n",
       "        vertical-align: top;\n",
       "    }\n",
       "\n",
       "    .dataframe thead th {\n",
       "        text-align: right;\n",
       "    }\n",
       "</style>\n",
       "<table border=\"1\" class=\"dataframe\">\n",
       "  <thead>\n",
       "    <tr style=\"text-align: right;\">\n",
       "      <th></th>\n",
       "      <th>mean</th>\n",
       "      <th>median</th>\n",
       "    </tr>\n",
       "    <tr>\n",
       "      <th>Pclass</th>\n",
       "      <th></th>\n",
       "      <th></th>\n",
       "    </tr>\n",
       "  </thead>\n",
       "  <tbody>\n",
       "    <tr>\n",
       "      <th>1</th>\n",
       "      <td>84.154687</td>\n",
       "      <td>60.2875</td>\n",
       "    </tr>\n",
       "    <tr>\n",
       "      <th>2</th>\n",
       "      <td>20.662183</td>\n",
       "      <td>14.2500</td>\n",
       "    </tr>\n",
       "    <tr>\n",
       "      <th>3</th>\n",
       "      <td>13.675550</td>\n",
       "      <td>8.0500</td>\n",
       "    </tr>\n",
       "  </tbody>\n",
       "</table>\n",
       "</div>"
      ],
      "text/plain": [
       "             mean   median\n",
       "Pclass                    \n",
       "1       84.154687  60.2875\n",
       "2       20.662183  14.2500\n",
       "3       13.675550   8.0500"
      ]
     },
     "metadata": {},
     "output_type": "display_data"
    },
    {
     "name": "stdout",
     "output_type": "stream",
     "text": [
      "Pclass 1 has maximum mean with 84.1546875\n",
      "Pclass 3 has minimum mean with 13.675550101832993\n",
      "Pclass 1 has maximum median with 60.287499999999994\n",
      "Pclass 3 has minimum median with 8.05\n"
     ]
    }
   ],
   "source": [
    "stats = [\"mean\", \"median\"]\n",
    "\n",
    "res_df = df.groupby(\"Pclass\")[\"Fare\"].agg(stats)\n",
    "display(res_df)\n",
    "\n",
    "for stat in stats:\n",
    "    max_idx = res_df[stat].idxmax()\n",
    "    min_idx = res_df[stat].idxmin()\n",
    "    print(f\"Pclass {max_idx} has maximum {stat} with {res_df[stat][max_idx]}\")\n",
    "    print(f\"Pclass {min_idx} has minimum {stat} with {res_df[stat][min_idx]}\")"
   ]
  },
  {
   "cell_type": "markdown",
   "id": "3457533e-f755-4016-9231-49509126832d",
   "metadata": {},
   "source": [
    "10. Death ratio comparison for women and men passengers:"
   ]
  },
  {
   "cell_type": "code",
   "execution_count": 198,
   "id": "bbf05e47-b450-4ab2-9642-a91a73dd83c3",
   "metadata": {},
   "outputs": [
    {
     "name": "stdout",
     "output_type": "stream",
     "text": [
      "men death ratio = 0.8110918544194108 > women death ratio = 0.25796178343949044\n"
     ]
    }
   ],
   "source": [
    "w_ratio = w_not_survived.shape[0] / filter_df(df, Sex=\"female\").shape[0]\n",
    "m_ratio = m_not_survived.shape[0] / filter_df(df, Sex=\"male\").shape[0]\n",
    "\n",
    "if w_ratio > m_ratio:\n",
    "    print(f\"women death ratio = {w_ratio} > men death ratio = {m_ratio}\")\n",
    "elif m_ratio > w_ratio:\n",
    "    print(f\"men death ratio = {m_ratio} > women death ratio = {w_ratio}\")\n",
    "else:\n",
    "    print(f\"male death ratio = {m_ratio} = women death ratio = {w_ratio}\")"
   ]
  }
 ],
 "metadata": {
  "kernelspec": {
   "display_name": "Python 3 (ipykernel)",
   "language": "python",
   "name": "python3"
  },
  "language_info": {
   "codemirror_mode": {
    "name": "ipython",
    "version": 3
   },
   "file_extension": ".py",
   "mimetype": "text/x-python",
   "name": "python",
   "nbconvert_exporter": "python",
   "pygments_lexer": "ipython3",
   "version": "3.12.7"
  }
 },
 "nbformat": 4,
 "nbformat_minor": 5
}
