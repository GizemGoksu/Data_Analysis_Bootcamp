{
 "cells": [
  {
   "cell_type": "markdown",
   "id": "a61f2981-34da-4f41-be07-c1020dae7ea3",
   "metadata": {},
   "source": [
    "# Veri Analizi Bootcamp Ödev 1"
   ]
  },
  {
   "cell_type": "markdown",
   "id": "78ff76b9-b712-4e77-a8af-dab83814aeaa",
   "metadata": {},
   "source": [
    "### Ad Soyad: Gizem Göksu \n",
    "### Okul ve Bölüm : İTÜ Matematik Mühendisliği"
   ]
  },
  {
   "cell_type": "markdown",
   "id": "69c60e3c-7ece-432b-a1d5-c2419753b86c",
   "metadata": {},
   "source": [
    "1. Girilen sayının pozitif, negatif veya sıfır olduğunu yazan koşul"
   ]
  },
  {
   "cell_type": "code",
   "execution_count": 16,
   "id": "0d2d2375-ce21-4456-af52-4e7633c6016b",
   "metadata": {},
   "outputs": [
    {
     "name": "stdin",
     "output_type": "stream",
     "text": [
      "Enter a number: 10\n"
     ]
    },
    {
     "name": "stdout",
     "output_type": "stream",
     "text": [
      "Positive\n"
     ]
    }
   ],
   "source": [
    "n = float(input(\"Enter a number:\"))\n",
    "print(\"Positive\" if n>0 else \"Negative\" if n<0 else \"Zero\")"
   ]
  },
  {
   "cell_type": "markdown",
   "id": "a012560a-0e96-4484-9237-af0dfa184c92",
   "metadata": {},
   "source": [
    "2. Girilen sayının tek mi çift mi olduğunu yazan koşul"
   ]
  },
  {
   "cell_type": "code",
   "execution_count": 18,
   "id": "12eebf54-6c53-45a2-8cfb-ee60ff5e441e",
   "metadata": {},
   "outputs": [
    {
     "name": "stdin",
     "output_type": "stream",
     "text": [
      "Enter an integer: 8\n"
     ]
    },
    {
     "name": "stdout",
     "output_type": "stream",
     "text": [
      "Even\n"
     ]
    }
   ],
   "source": [
    "n = int(input(\"Enter an integer:\"))\n",
    "print(\"Even\" if n%2==0 else \"Odd\")"
   ]
  },
  {
   "cell_type": "markdown",
   "id": "7cc8eed4-c94b-4fe8-92f8-1a1c02530b0f",
   "metadata": {},
   "source": [
    "3. Girilen nota göre harf aralığını yazan koşul (80-100 A, 60-80 B vs.)"
   ]
  },
  {
   "cell_type": "code",
   "execution_count": 22,
   "id": "876cb914-2d40-45ed-8c3d-05c5dfadf35b",
   "metadata": {},
   "outputs": [
    {
     "name": "stdin",
     "output_type": "stream",
     "text": [
      "Enter a grade: 77\n"
     ]
    },
    {
     "name": "stdout",
     "output_type": "stream",
     "text": [
      "B\n"
     ]
    }
   ],
   "source": [
    "grading = {\"A\": range(80,101) ,\"B\": range(60,80),\"C\": range(40,60), \"D\": range(20,40), \"E\":range(0,20)}\n",
    "\n",
    "point = int(input(\"Enter a grade:\"))\n",
    "if point in range(0,101):\n",
    "    for grade,interval in grading.items():\n",
    "        if point in interval:\n",
    "           print(grade)\n",
    "           break\n",
    "else:\n",
    "    print(\"Grade is out of [0,100] interval\")"
   ]
  },
  {
   "cell_type": "markdown",
   "id": "961978ef-0b14-4ed6-b00d-576ab3198071",
   "metadata": {},
   "source": [
    "4. Girilen ismin karakter sayısı 5den büyükse \"uzun bir isminiz var\" değilse ismini yazsın\n",
    "   "
   ]
  },
  {
   "cell_type": "code",
   "execution_count": 24,
   "id": "05054f07-4d93-4c9d-9d9b-4a68ba0647f1",
   "metadata": {},
   "outputs": [
    {
     "name": "stdin",
     "output_type": "stream",
     "text": [
      "Enter a name: Meryem\n"
     ]
    },
    {
     "name": "stdout",
     "output_type": "stream",
     "text": [
      "You have a long name\n"
     ]
    }
   ],
   "source": [
    "name = input(\"Enter a name:\")\n",
    "print(\"You have a long name\" if len(name) > 5 else name)"
   ]
  },
  {
   "cell_type": "markdown",
   "id": "c9998882-e664-4e8b-a203-8d0edd1740fe",
   "metadata": {},
   "source": [
    "5. Girilen sayının asal olup olmadığını bulan kod dizisi. (for ve while)"
   ]
  },
  {
   "cell_type": "code",
   "execution_count": 26,
   "id": "886dd1d9-07cf-4483-8ca7-edb8b29ead7a",
   "metadata": {},
   "outputs": [
    {
     "name": "stdin",
     "output_type": "stream",
     "text": [
      "Enter an integer: 23\n"
     ]
    },
    {
     "name": "stdout",
     "output_type": "stream",
     "text": [
      "True\n"
     ]
    }
   ],
   "source": [
    "n = int(input(\"Enter an integer:\"))\n",
    "prime=True\n",
    "for i in range(2,n):\n",
    "    if n%i==0:\n",
    "        prime=False\n",
    "        break\n",
    "print(prime)"
   ]
  },
  {
   "cell_type": "markdown",
   "id": "e67389e3-028e-4842-b597-b7fc2afd3c06",
   "metadata": {},
   "source": [
    "6. notlar=[45,85,75,50] içinde 75 değerinin indisini yazdıran döngü"
   ]
  },
  {
   "cell_type": "code",
   "execution_count": 28,
   "id": "cdac65fd-2245-472a-a432-97140615afc6",
   "metadata": {},
   "outputs": [
    {
     "name": "stdout",
     "output_type": "stream",
     "text": [
      "3\n"
     ]
    }
   ],
   "source": [
    "grades = [45,85,75,50]\n",
    "for i in range(len(grades)):\n",
    "    if grades[i] == 50:\n",
    "        print(i)"
   ]
  },
  {
   "cell_type": "markdown",
   "id": "dcabdccb-79d7-44b6-b86f-396d94eddb17",
   "metadata": {},
   "source": [
    "7. Girilen sayının faktöriyelini alalım. (for ve while)"
   ]
  },
  {
   "cell_type": "code",
   "execution_count": 30,
   "id": "d83467c4-cec4-46f0-9049-0d353cbff3ea",
   "metadata": {},
   "outputs": [
    {
     "name": "stdin",
     "output_type": "stream",
     "text": [
      "Enter an integer: 5\n"
     ]
    },
    {
     "name": "stdout",
     "output_type": "stream",
     "text": [
      "5! = 120\n"
     ]
    }
   ],
   "source": [
    "n = int(input(\"Enter an integer:\"))\n",
    "res = 1\n",
    "for i in range(2,n+1):\n",
    "    res*=i\n",
    "print(f\"{n}! = {res}\")"
   ]
  },
  {
   "cell_type": "markdown",
   "id": "58d2041a-a0c5-4cff-98df-e3a223f23891",
   "metadata": {},
   "source": [
    "8. Kullanıcıdan pozitif bir sayı bekleyen, pozitifi de gördüğü an bastıran, negatif sayı girildikçe bir daha soran yapı kuralım. (for döngüsü ile)"
   ]
  },
  {
   "cell_type": "code",
   "execution_count": 33,
   "id": "f3ac8b40-2056-4843-af32-0d1397bec20d",
   "metadata": {},
   "outputs": [
    {
     "name": "stdin",
     "output_type": "stream",
     "text": [
      "Enter a positive integer: -4\n"
     ]
    },
    {
     "name": "stdout",
     "output_type": "stream",
     "text": [
      "Integer you entered is negative.\n"
     ]
    },
    {
     "name": "stdin",
     "output_type": "stream",
     "text": [
      "Enter a positive integer: -18\n"
     ]
    },
    {
     "name": "stdout",
     "output_type": "stream",
     "text": [
      "Integer you entered is negative.\n"
     ]
    },
    {
     "name": "stdin",
     "output_type": "stream",
     "text": [
      "Enter a positive integer: -99\n"
     ]
    },
    {
     "name": "stdout",
     "output_type": "stream",
     "text": [
      "Integer you entered is negative.\n"
     ]
    },
    {
     "name": "stdin",
     "output_type": "stream",
     "text": [
      "Enter a positive integer: 53\n"
     ]
    },
    {
     "name": "stdout",
     "output_type": "stream",
     "text": [
      "53\n"
     ]
    }
   ],
   "source": [
    "# Bu soru için while döngüsünün daha uygun olacağını düşündüm\n",
    "n = int(input(\"Enter a positive integer:\"))\n",
    "while n<0:\n",
    "    print(\"Integer you entered is negative.\")\n",
    "    n = int(input(\"Enter a positive integer:\"))\n",
    "else:\n",
    "    print(n)"
   ]
  },
  {
   "cell_type": "markdown",
   "id": "fdb3d275-5fc9-4292-b48d-da6d655105f8",
   "metadata": {},
   "source": [
    "9. Fonksiyon ile girilen sayının asal olup olmadığını bulan kod dizisi. (for ve while)"
   ]
  },
  {
   "cell_type": "code",
   "execution_count": 35,
   "id": "c4c7b16b-5557-442c-ae2c-2a84aeb0953e",
   "metadata": {},
   "outputs": [],
   "source": [
    "# Yukarıdaki asal mı değil mi sorusunda for kullandığım için burada while kullandım\n",
    "def isPrime(n):\n",
    "  i = 2\n",
    "  while i<n:\n",
    "      if n%i==0:\n",
    "          return False\n",
    "      i+=1\n",
    "  return True"
   ]
  },
  {
   "cell_type": "code",
   "execution_count": 37,
   "id": "1fba4158-e71b-483c-b0e5-4be5af82ff26",
   "metadata": {},
   "outputs": [
    {
     "name": "stdin",
     "output_type": "stream",
     "text": [
      "Enter a number: 23\n"
     ]
    },
    {
     "name": "stdout",
     "output_type": "stream",
     "text": [
      "23 is prime\n"
     ]
    }
   ],
   "source": [
    "n = int(input(\"Enter a number:\"))\n",
    "print(f\"{n} is {\"prime\" if isPrime(n) else \"not prime\"}\")"
   ]
  },
  {
   "cell_type": "markdown",
   "id": "0629535d-0491-41c3-b7e6-0f9210b4de09",
   "metadata": {},
   "source": [
    "10. Fonksiyon ile girilen sayının faktöriyelini alalım. (for ve while)"
   ]
  },
  {
   "cell_type": "code",
   "execution_count": 39,
   "id": "e92e380d-da9b-4aef-90e4-ea3223488f13",
   "metadata": {},
   "outputs": [],
   "source": [
    "def factorial(n):\n",
    "    res=1\n",
    "    i=1\n",
    "    while i<=n:\n",
    "        res*=i\n",
    "        i+=1\n",
    "    return res       "
   ]
  },
  {
   "cell_type": "code",
   "execution_count": 41,
   "id": "bd3625d4-5a70-4030-a518-8b0b3d680d51",
   "metadata": {},
   "outputs": [
    {
     "name": "stdin",
     "output_type": "stream",
     "text": [
      "Enter an integer: 6\n"
     ]
    },
    {
     "name": "stdout",
     "output_type": "stream",
     "text": [
      "6! = 720\n"
     ]
    }
   ],
   "source": [
    "n = int(input(\"Enter an integer:\"))\n",
    "print(f\"{n}! = {factorial(n)}\")"
   ]
  }
 ],
 "metadata": {
  "kernelspec": {
   "display_name": "Python 3 (ipykernel)",
   "language": "python",
   "name": "python3"
  },
  "language_info": {
   "codemirror_mode": {
    "name": "ipython",
    "version": 3
   },
   "file_extension": ".py",
   "mimetype": "text/x-python",
   "name": "python",
   "nbconvert_exporter": "python",
   "pygments_lexer": "ipython3",
   "version": "3.12.7"
  }
 },
 "nbformat": 4,
 "nbformat_minor": 5
}
